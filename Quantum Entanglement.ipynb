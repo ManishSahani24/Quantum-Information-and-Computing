{
 "cells": [
  {
   "cell_type": "markdown",
   "id": "135a2bf9",
   "metadata": {},
   "source": [
    "#### **Alice** and **Bob**\n",
    "\n",
    "    Alice and Bob are names given to hypothetical entities or agents in systems, protocols or games that involves exchange of information.\n",
    "\n",
    "    sender (Alice) transmits a qubit to a receiver (Bob) by making use of a shared entangled quantum state along with two bits of classical communication.\n",
    "\n",
    "    \n",
    "    "
   ]
  }
 ],
 "metadata": {
  "kernelspec": {
   "display_name": "Python 3",
   "language": "python",
   "name": "python3"
  },
  "language_info": {
   "name": "python",
   "version": "3.12.5"
  }
 },
 "nbformat": 4,
 "nbformat_minor": 5
}
