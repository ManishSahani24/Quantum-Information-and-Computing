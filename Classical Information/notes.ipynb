{
 "cells": [
  {
   "cell_type": "markdown",
   "id": "0c0ce825",
   "metadata": {},
   "source": [
    "The term **classical** refers to concepts, ideas, and descriptions based on physical theories (such as Newtonian physics) that predate the discovery of quantum theory. \n",
    "In the context of information, **Classical information** means information stored, transmitted, or processed using classical physics principles.\n",
    "\n",
    "\n",
    "Eg. In classical computing (like our laptop/ phones) , the basic unit of information is a ***bit***.\n",
    "\n",
    "* All classical information - images, videos, text, numbers—is ultimately stored as sequences of 0s and 1s.\n",
    "\n",
    "examples of classical informations: Your whatsapp messages, photos, bank transactions,etc."
   ]
  },
  {
   "cell_type": "markdown",
   "id": "a8ffa61e",
   "metadata": {},
   "source": []
  }
 ],
 "metadata": {
  "language_info": {
   "name": "python"
  }
 },
 "nbformat": 4,
 "nbformat_minor": 5
}
